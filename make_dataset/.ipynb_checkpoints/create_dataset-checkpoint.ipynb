{
 "cells": [
  {
   "cell_type": "markdown",
   "metadata": {},
   "source": [
    "### Load Diagnoses"
   ]
  },
  {
   "cell_type": "code",
   "execution_count": 33,
   "metadata": {},
   "outputs": [],
   "source": [
    "import pandas as pd\n",
    "\n",
    "# persons with 3 or more HIV dx codes after 2018-01-01\n",
    "cohort = pd.read_csv(\"demographic_info.csv\").\\\n",
    "                merge(pd.read_csv(\"HIV_cohort.csv\"), on ='person_id')\n",
    "                      \n",
    "new_HIV_dx = pd.read_csv(\"newly_diagnosed_HIV.csv\").person_id.tolist()\n",
    "cohort['new_dx'] = [x in new_HIV_dx for x in cohort.person_id.tolist()]\n",
    "\n",
    "# target conditions like HCV/obesity/depression/anxiety/etc.\n",
    "conditions = pd.get_dummies(pd.read_csv(\"condition_query.csv\"), \n",
    "                           prefix=None).groupby('person_id').sum().reset_index()\n",
    "\n",
    "# merge aforementioned dataframes\n",
    "dx_df = cohort.merge(conditions,\n",
    "            how = 'left', on = 'person_id').fillna(0)"
   ]
  },
  {
   "cell_type": "markdown",
   "metadata": {},
   "source": [
    "### Outpatient Visits, Emergency Deparment Encounters, and Inpatient Admissions"
   ]
  },
  {
   "cell_type": "code",
   "execution_count": 34,
   "metadata": {},
   "outputs": [],
   "source": [
    "# number of E&M visits for established patients (CPT 99211-99215) from 6-2018 to 6-2019\n",
    "outpatient = pd.read_csv(\"outpatient_visits.csv\")\n",
    "outpatient['office_visits'] = outpatient['visits']\n",
    "\n",
    "# number of ED and inpatient encounters from 6-2018 to 6-2019\n",
    "hospital = pd.read_csv(\"hospital_visits.csv\")\n",
    "\n",
    "visits_df = outpatient[['person_id', 'office_visits']].merge(hospital, \n",
    "                on = 'person_id', how = 'outer').fillna(0)"
   ]
  },
  {
   "cell_type": "markdown",
   "metadata": {},
   "source": [
    "### Laboratory Values: HIV Viral Load and HbA1c"
   ]
  },
  {
   "cell_type": "code",
   "execution_count": 35,
   "metadata": {},
   "outputs": [],
   "source": [
    "######################\n",
    "# HIV RNA viral load #\n",
    "######################\n",
    "\n",
    "# all viral load labs starting 2018-01-01\n",
    "vl_labs = pd.read_csv(\"viral_loads.csv\")\n",
    "\n",
    "# convert strings to float using a 'reference data frame'\n",
    "vl_summary = vl_labs.groupby('value_source_value').size().reset_index().sort_values([0], ascending = False)\n",
    "vl_summary.columns = ['value_source_value', 'value']\n",
    "\n",
    "# normalize VL labs\n",
    "i, floats, dmap = 0, [], {'Not Detected':0, '<20':0, '>10000000':10000, 'BT':0, 'TNP':0}\n",
    "for result in vl_summary['value_source_value'].tolist():\n",
    "    try:\n",
    "        floats.append(float(result))\n",
    "    except:\n",
    "        floats.append(float(dmap[result]))\n",
    "\n",
    "# vls column to create binary variable for 'viral load suppression'\n",
    "vl_summary['vls'] = [x < 200 for x in floats]\n",
    "\n",
    "VLS_df = vl_labs.merge(vl_summary, \n",
    "                       on = 'value_source_value')[['person_id', 'measurement_date', 'vls']]\n",
    "\n",
    "# get most recent lab for each patient\n",
    "VLS_df = VLS_df.merge(\n",
    "    VLS_df.groupby('person_id').measurement_date.first().reset_index(),\n",
    "    on = ['person_id', 'measurement_date'])\n",
    "\n",
    "\n",
    "\n",
    "#########\n",
    "# HbA1c #\n",
    "#########\n",
    "\n",
    "hba1c_df = pd.read_csv('hba1c_values.csv').sort_values(['person_id','measurement_date'])\n",
    "# get most recent lab for each patient\n",
    "hba1c_df = hba1c_df.groupby('person_id').last()\n",
    "hba1c_df['hba1c'] = hba1c_df['value_as_number']\n",
    "\n",
    "#############\n",
    "# join labs #\n",
    "#############\n",
    "\n",
    "lab_df = VLS_df.merge(hba1c_df, on = 'person_id', how = 'left')"
   ]
  },
  {
   "cell_type": "markdown",
   "metadata": {},
   "source": [
    "### Create Final Dataframe"
   ]
  },
  {
   "cell_type": "code",
   "execution_count": 36,
   "metadata": {},
   "outputs": [],
   "source": [
    "df = dx_df.merge(visits_df, how = 'left').fillna(0).merge(\n",
    "    lab_df[['person_id', 'vls', 'hba1c']], on = 'person_id')"
   ]
  },
  {
   "cell_type": "code",
   "execution_count": 37,
   "metadata": {},
   "outputs": [],
   "source": [
    "df = df.loc[~df.hba1c.isna(), ].drop_duplicates('person_id')"
   ]
  },
  {
   "cell_type": "markdown",
   "metadata": {},
   "source": [
    "### Add unstable housing, CD4, "
   ]
  },
  {
   "cell_type": "code",
   "execution_count": 31,
   "metadata": {},
   "outputs": [],
   "source": [
    "import random\n",
    "df['cd4'] = [random.randint(350,500) if x == True else random.randint(0,300) for x in df.vls]"
   ]
  },
  {
   "cell_type": "markdown",
   "metadata": {},
   "source": [
    "### Truncate dataframe and add names"
   ]
  },
  {
   "cell_type": "code",
   "execution_count": 49,
   "metadata": {},
   "outputs": [],
   "source": [
    "df = df.iloc[1:len(names)+1,]\n",
    "\n",
    "names = ['Adah Labarge','Adrian Milhorn','Agueda Peachey','Akilah Trezza','Al Ratcliff','Alan Holdsworth','Albert Ayler',\n",
    "'Alejandrina Amaro','Alejandro Fite','Aleshia Elmendorf','Alfonso Rinker','Alice Coltrane','Alysa Lapine',\n",
    "'Amado Knaack','Amalia Ambriz','Amanda Townsend','Angeles Whitesel','Angie Ellery','Anja Kubacki',\n",
    "'Anjanette Neiman','Annalisa Lillard','Annamarie Patterson','Annelle Dubrey','Annetta Saxton',\n",
    "'Anthony Braxton','Antonetta Bangert','Antonio Carlos Jobim','Antwan Atchinson','Arline Popp','Art Blakey',\n",
    "'Art Pepper','Art Tatum','Artie Shaw','Ashlie Monteiro','Audrey Naron','Aura Truman','Aurelio Haigh','Austin Taranto',\n",
    "'Bailey Bixby','Bao Whitehead','Becky Craig','Belkis Elizalde','Ben Webster','Benedict Elders','Bennie Moten','Benny Carter',\n",
    "'Benny Goodman','Bernard Parkes','Bessie Blackwell','Bessie Smith','Betsy Hargrave','Beverley Derosia',\n",
    "'Bill Evans','Billy Strayhorn','Bix Beiderbecke','Blue Shepherd','Brandon Nguyen','Bridget Clodfelter',\n",
    "'Britney Siegler','Bruna Averett','Bryanna Kalina','Bud Powell','Buddy Bolden','Buddy Rich','Candra Fine',\n",
    "'Candyce Kidwell','Cannonball Adderley','Carlos Milian','Carlotta Bialek','Carlton Lachapelle','Carmen Binford',\n",
    "'Catarina Amerman','Catharine Galan','Catherine Hayes','Cathi Sumrell','Cathleen Hovey','Catina Diez',\n",
    "'Cayla Isaacs','Cecil Taylor','Cecila Robert','Cecily Schwartzman','Chan Helbert','Charita Soule','Charles Abucus',\n",
    "'Charles Mingus','Charlie Christian','Charlie Haden','Charlie Laguna','Cheryl Schell','Chet Baker','Chi Dawley',\n",
    "'Chick Corea','Chieko Nale','Clarence Davis','Clemmie Tinney','Cleora Lagrange','Cletus Bendixen','Clifford Brown',\n",
    "'Coleman Hawkins','Coreen Fleisher','Corinna Goodspeed','Cortney Kelsch','Count Basie','Cruz Cogdill',\n",
    "'Danette Mountjoy','Danny Portwood','Daria Royer','Dave Brubeck','Dave Holland','David Murray','Deadra Garfinkel',\n",
    "'Deanne Deitch','Dell Mcpherson','Della Bartkowiak','Deloise Spalding','Denice Agtarap','Denis Clapper',\n",
    "'Desire Bracy','Despina Corder','Dexter Gordon','Dianne Bass','Dixie Belgarde','Django Reinhardt',\n",
    "'Doreatha Stpeter','Dorothy Ashby','Dovie Yarnall','Daniel Wells','Doyle Wells','Dustin Belvin',\n",
    "'Earl Hines','Ed Oshea','Eddie Lang','Edward Huggett','Edwin Brooke','Ehtel Zeolla','Elaine Justus','Elba Debellis',\n",
    "'Elda Huls','Eldora Lett','Elia Vanvliet','Ella Fitzgerald','Elsa Maxwell','Sally Maxwell','Elton Dearborn',\n",
    "'Elvis Tarwater','Elvis Wiseman','Emanuel Howell','Emery Koger','Emilio Strawser','Emily Barrows',\n",
    "'Emmett Ferguson','Enola Drane','Eric Dolphy','Erma Vasquez','Erroll Garner','Ettie Schmalz','Evalyn Stroman',\n",
    "'Elsie Danna','Evita Pulver','Ezekiel Diederich','Fae Wickersham','Fannie Madrid','Fats Navarro','Fats Waller',\n",
    "'Fawn Mccarthy','Felipe Girard','Fernando Fernandez','Rodney Fernandez','Fidelia Klingman','Fletcher Henderson',\n",
    "'Floyd Scalia','Fonda Hosey','Francina Lummus','Frank Sinatra','Freda Cowart','Freddie Hubbard','Frida Newquist',\n",
    "'Gala Terrazas','Galina Searle','Gene Ammons','Geoffrey Peaxach','George Joseph','George Russell',\n",
    "'Gerry Mulligan','Gertude Brautigam','Gil Evans','Ginette Hooks','Glynis Twitty','Gracia Trejo','Graciela Fett',\n",
    "'Graig Payeur','Guadalupe Allen','Guadalupe Booz','Hae Voorhis','Harris Pixler','Herbie Hancock',\n",
    "'Herta Kash','Hoa Sherron','Homer Mclawhorn','Horace Silver','Hung Mcquillen','Hwa Center','Ila Yohe',\n",
    "'Ion Camel','Ileen Carnes','In Schacherer','Inger Collazo','Inocencia Giltner','Ira Dejong','Isiah Hoffman',\n",
    "'Isaac Hoffman','Isaura Robeson','Isis Alsup','Israel Delgado','Ivory Mcginley','J. Johnson','Jacelyn Pullin',\n",
    "'Jacob Laurie','Jacquelyne Detty','Jaime Craney','James Moody','Jana Magnani','Janeen Osman','Janette Seale',\n",
    "'Janey Fritz','Jann Cubbage','Jean Hale','Jeannie Barnett','Jeannie Simo','Jefferey Straughter',\n",
    "'Jeffrey Reed','Jelly Roll Morton','Jerrold Carlow','Jetta Viars','Jimmie Lunceford','Jimmy Smith',\n",
    "'Joe Henderson','Joe Zawinul','John Aster','John Coltrane','John McLaughlin','Johnathan Matthews',\n",
    "'Johnie Teran','Jolyn Diggins','Jone Metz','Joselyn Bultman','Joye Kalman','Judy Lippert','Kamala Arvidson',\n",
    "'Kara Mccarthy','Karri Litchfield','Kary Belding','Karyn Luby','Kasha Hatton','Kassie Dimuzio','Kathleen James',\n",
    "'Kathlyn Hulings','Keith Jarrett','Keitha Aaronson','Keitha Guida','Kerry Watt','Kid Ory','Kiley Gamino',\n",
    "'Kimberley Wever','King Oliver','Kristen Goodspeed','Kristin Oreilly','Krysta Vogan','Kurtis Lasky','Lady Caulkins',\n",
    "'Laine Oberle','Lance Borst','Larue Peavey','Lashawnda Shortt','Lashon Arana','Latashia Galli','Lauren Simonson',\n",
    "'Laurence Andrews','Laurice Savino','Leah Fraga','Lee Konitz','Lee Morgan','Leeanne Babich','Leia Mapes',\n",
    "'Lemuel Cecena','Lennie Tristano','Lenny Spiro','Lenora Xu','Leonila Glen','Leora Mattera','Leslee Silva',\n",
    "'Lester Young','Lien Pharris','Lilliam Thornell','Lillian Richardson','Larry Richardson','Lilliana Respass',\n",
    "'Linda Smith','Linwood Huss','Lionel Hampton','Lisa Obrien','Lisabeth Briski','Lisbeth Ackerman',\n",
    "'Lizbeth Dannenberg','Loida Coloma','Lora Fortes','Loria Carver','Lorine Demas','Louanne Eggleton','Louis Armstrong',\n",
    "'Louis Jordan','Lovetta Duford','Loyd Chachere','Lucas Rexford','Mabel Falconer','Mark Hubbard','Mable Hubbard',\n",
    "'Madelaine Ruzicka','Magen Wass','Maia Funnell','Majorie Sage','Margret Ontiveros','Maria Cameron',\n",
    "'Marianela Thrash','Marilynn Sprague','Marquetta Whicker','Mary Lou Williams','Maurita Kluender','Mauro Napier',\n",
    "'Max Roach','McCoy Tyner','Mee Kole','Melia Kirklin','Mia Hersom','Miles Davis','Misti Greenfield',\n",
    "'Mitzi Darr','Monica Stefanik','Monika Maisonet','Monique Rosenzweig','Mora Hoar','Morton Spano','Muhal Richard Adams',\n",
    "'Myra Larabee','Naida Vanhorn','Nakisha Showalter','Nancy Wise','Nannie Sulser','Narcisa Branscum','Nat King Cole','Nenita Barkman',\n",
    "'Nettie Mccullen','Nevada Harkey','Nichole Gorley','Nicola Richeson','Nat Garcia','Nicole Garcia',\n",
    "'Nikki Sherron','Ninfa Dane','Noemi Marek','Nohemi Oconnell','Noreen Babin','Odis Fults','Ola Stumbaugh',\n",
    "'Olin Runyan','Oliva Berndt','Oliver Nelson','Oralee Krizan','Ornette Coleman','Orpha Larger',\n",
    "'Orval Regan','Oscar Peterson','Oswaldo Velazco','Ouida July','Ozell Kerschner','Pa Ganey',\n",
    "'Paulita Sheehan','Pearl Kahle','Peg Loken','Percy Welch','Perry Graf','Phil Palmateer',\n",
    "'Philly Joe Jones','Rahsaan Roland Kirk','Rasheeda Mackey','Raymond Dock','Rea Sommerfeld','Regenia Redman',\n",
    "'Reginia Simons','Reid Slama','Reyna Criado','Richard Hodges','Riley Vath','Rita Rorie','Rolanda Schulz',\n",
    "'Roma Dorey','Romana Galvan','Rona Trenholm','Ronnie Rolins','Rosalba Weddell','Rosalee Copp',\n",
    "'Rosalind Thiry','Rosamond Lema','Rosaura Domer','Roselle Raybon','Rosendo Stookey','Roy Eldridge',\n",
    "'Royce Bergquist','Royce Viands','Rubye Vancuren','Rufina Cronkhite','Sabine Haddad','Sabra Dantonio','Sabra Wier',\n",
    "'Sadie Watts','Salome Filmore','Sam Andrews','Sandee Bronson','Sanjuanita Zang','Santiago Barris',\n",
    "'Santiago Johnston','Sarah Vaughan','Sarah Gonzales','Scott Gonzales','Scottie Wolanski','Serita Cordoba',\n",
    "'Shane Zingaro','Shanel Bhakta','Shantel Aye','Sharla Jacquez','Shelba Gutierrez','Sheri Milhorn',\n",
    "'Sherwood Oatis','Shirley Arispe','Shoshana Astin','Sidney Bechet','Soila Belote','Solange Railey',\n",
    "'Sonja Mcbride','Sonny Rollins','Stan Getz','Stan Kenton','Stefani Jacoby','Summer Pickrell','Sun Ra',\n",
    "'Susan Sherman','Susan Weaver','Susann Revis','Susy Jones','Sylvie Emmer','Tajuana Yeates',\n",
    "'Tambra Lewis','Tamesha Peng','Tanja Uren','Tatum Rielly','Taylor Hodges','Teddy Wilson','Tegan Shreffler',\n",
    "'Teisha Hartwig','Thaddeus Kelch','Theolonious Monk','Tiana Fettig','Tiffaney Fraser','Tomika Flor',\n",
    "'Tomiko Sass','Tori Feinstein','Trish Hachey','Tyesha Adkisson','Tyesha Giltner','Tyra Tijerina','Tyrell Reaves',\n",
    "'Tyrone Kling','Un Gibby','Ute Romig','Vena Vossen','Verda Werley','Verlie Mullin','Vi Batz',\n",
    "'Vicky Hilty','Vincenzo Saffell','Viola Hart','Wade Floyd','Wallace Fuller','Wally Barile','Wanda Goold',\n",
    "'Wava Magness','Wayne Shorter','Wes Montgomery','Wiley Maben','Winona Mckinnis','Winston Marsalis',\n",
    "'Woody Herman','Wynton Marsalis','Xochitl Basnett','Yahaira Plummer','Ying Schlenker','Zenobia Rojas',\n",
    "'Zina Vandenburg','Zulema Mudd','Zela Zedane']\n",
    "\n",
    "df['name'] = names"
   ]
  },
  {
   "cell_type": "code",
   "execution_count": 53,
   "metadata": {},
   "outputs": [],
   "source": [
    "df.to_csv(\"../ehr_dataset.csv\")"
   ]
  },
  {
   "cell_type": "code",
   "execution_count": 54,
   "metadata": {},
   "outputs": [
    {
     "data": {
      "text/plain": [
       "Index(['person_id', 'age', 'gender', 'new_dx', 'dx_alcoholism', 'dx_anxiety',\n",
       "       'dx_bipolar_disorder', 'dx_cardiovascular_disease', 'dx_ckd',\n",
       "       'dx_depression', 'dx_diabetes', 'dx_drug_abuse', 'dx_hcv',\n",
       "       'dx_hypertension', 'dx_schizophrenia', 'office_visits', 'er_visits',\n",
       "       'inpatient_admissions', 'vls', 'hba1c', 'name'],\n",
       "      dtype='object')"
      ]
     },
     "execution_count": 54,
     "metadata": {},
     "output_type": "execute_result"
    }
   ],
   "source": [
    "df.columns"
   ]
  }
 ],
 "metadata": {
  "kernelspec": {
   "display_name": "Python 3",
   "language": "python",
   "name": "python3"
  },
  "language_info": {
   "codemirror_mode": {
    "name": "ipython",
    "version": 3
   },
   "file_extension": ".py",
   "mimetype": "text/x-python",
   "name": "python",
   "nbconvert_exporter": "python",
   "pygments_lexer": "ipython3",
   "version": "3.7.5"
  }
 },
 "nbformat": 4,
 "nbformat_minor": 2
}
