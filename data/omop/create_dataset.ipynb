{
 "cells": [
  {
   "cell_type": "markdown",
   "metadata": {},
   "source": [
    "### Load Diagnoses"
   ]
  },
  {
   "cell_type": "code",
   "execution_count": 13,
   "metadata": {},
   "outputs": [],
   "source": [
    "import pandas as pd\n",
    "\n",
    "# persons with 3 or more HIV dx codes after 2018-01-01\n",
    "cohort = pd.read_csv(\"HIV_cohort.csv\")\n",
    "new_HIV_dx = pd.read_csv(\"newly_diagnosed_HIV.csv\").person_id.tolist()\n",
    "cohort['new_dx'] = [x in new_HIV_dx for x in cohort.person_id.tolist()]\n",
    "\n",
    "# target conditions like HCV/obesity/depression/anxiety/etc.\n",
    "conditions = pd.get_dummies(pd.read_csv(\"condition_query.csv\"), \n",
    "                           prefix=None).groupby('person_id').sum().reset_index()\n",
    "\n",
    "# merge aforementioned dataframes\n",
    "dx_df = cohort.merge(conditions,\n",
    "            how = 'left', on = 'person_id').fillna(0)"
   ]
  },
  {
   "cell_type": "markdown",
   "metadata": {},
   "source": [
    "### Outpatient Visits, Emergency Deparment Encounters, and Inpatient Admissions"
   ]
  },
  {
   "cell_type": "code",
   "execution_count": 14,
   "metadata": {},
   "outputs": [],
   "source": [
    "# number of E&M visits for established patients (CPT 99211-99215) from 6-2018 to 6-2019\n",
    "outpatient = pd.read_csv(\"outpatient_visits.csv\")\n",
    "outpatient['office_visits'] = outpatient['visits']\n",
    "\n",
    "# number of ED and inpatient encounters from 6-2018 to 6-2019\n",
    "hospital = pd.read_csv(\"hospital_visits.csv\")\n",
    "\n",
    "visits_df = outpatient[['person_id', 'office_visits']].merge(hospital, \n",
    "                on = 'person_id', how = 'outer').fillna(0)"
   ]
  },
  {
   "cell_type": "markdown",
   "metadata": {},
   "source": [
    "### Laboratory Values: HIV Viral Load and HbA1c"
   ]
  },
  {
   "cell_type": "code",
   "execution_count": 15,
   "metadata": {},
   "outputs": [],
   "source": [
    "######################\n",
    "# HIV RNA viral load #\n",
    "######################\n",
    "\n",
    "# all viral load labs starting 2018-01-01\n",
    "vl_labs = pd.read_csv(\"viral_loads.csv\")\n",
    "\n",
    "# convert strings to float using a 'reference data frame'\n",
    "vl_summary = vl_labs.groupby('value_source_value').size().reset_index().sort_values([0], ascending = False)\n",
    "vl_summary.columns = ['value_source_value', 'value']\n",
    "\n",
    "# normalize VL labs\n",
    "i, floats, dmap = 0, [], {'Not Detected':0, '<20':0, '>10000000':10000, 'BT':0, 'TNP':0}\n",
    "for result in vl_summary['value_source_value'].tolist():\n",
    "    try:\n",
    "        floats.append(float(result))\n",
    "    except:\n",
    "        floats.append(float(dmap[result]))\n",
    "\n",
    "# vls column to create binary variable for 'viral load suppression'\n",
    "vl_summary['vls'] = [x < 200 for x in floats]\n",
    "\n",
    "VLS_df = vl_labs.merge(vl_summary, \n",
    "                       on = 'value_source_value')[['person_id', 'measurement_date', 'vls']]\n",
    "\n",
    "# get most recent lab for each patient\n",
    "VLS_df = VLS_df.merge(\n",
    "    VLS_df.groupby('person_id').measurement_date.first().reset_index(),\n",
    "    on = ['person_id', 'measurement_date'])\n",
    "\n",
    "\n",
    "\n",
    "#########\n",
    "# HbA1c #\n",
    "#########\n",
    "\n",
    "hba1c_df = pd.read_csv('hba1c_values.csv').sort_values(['person_id','measurement_date'])\n",
    "# get most recent lab for each patient\n",
    "hba1c_df = hba1c_df.groupby('person_id').last()\n",
    "hba1c_df['hba1c'] = hba1c_df['value_as_number']\n",
    "\n",
    "#############\n",
    "# join labs #\n",
    "#############\n",
    "\n",
    "lab_df = VLS_df.merge(hba1c_df, on = 'person_id', how = 'left')"
   ]
  },
  {
   "cell_type": "markdown",
   "metadata": {},
   "source": [
    "### Create Final Dataframe"
   ]
  },
  {
   "cell_type": "code",
   "execution_count": 16,
   "metadata": {},
   "outputs": [],
   "source": [
    "df = dx_df.merge(visits_df, how = 'left').fillna(0).merge(\n",
    "    lab_df[['person_id', 'vls', 'hba1c']], on = 'person_id')\n",
    "\n",
    "#df.to_csv(\"omop_indicators.csv\")"
   ]
  },
  {
   "cell_type": "code",
   "execution_count": 17,
   "metadata": {},
   "outputs": [
    {
     "data": {
      "text/plain": [
       "Index(['person_id', 'new_dx', 'dx_alcoholism', 'dx_anxiety', 'dx_depression',\n",
       "       'dx_diabetes', 'dx_drug abuse', 'dx_hcv', 'dx_hypertension',\n",
       "       'dx_psychosis', 'office_visits', 'er_visits', 'inpatient_admissions',\n",
       "       'vls', 'hba1c'],\n",
       "      dtype='object')"
      ]
     },
     "execution_count": 17,
     "metadata": {},
     "output_type": "execute_result"
    }
   ],
   "source": [
    "df.columns\n",
    "# need hospitalization risk, CD4 count, unstable housing"
   ]
  }
 ],
 "metadata": {
  "kernelspec": {
   "display_name": "Python 3",
   "language": "python",
   "name": "python3"
  },
  "language_info": {
   "codemirror_mode": {
    "name": "ipython",
    "version": 3
   },
   "file_extension": ".py",
   "mimetype": "text/x-python",
   "name": "python",
   "nbconvert_exporter": "python",
   "pygments_lexer": "ipython3",
   "version": "3.7.5"
  }
 },
 "nbformat": 4,
 "nbformat_minor": 2
}
