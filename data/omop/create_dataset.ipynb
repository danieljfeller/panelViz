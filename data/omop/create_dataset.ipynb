{
 "cells": [
  {
   "cell_type": "markdown",
   "metadata": {},
   "source": [
    "### Load HIV Cohort + Diagnoses + E&M Visits"
   ]
  },
  {
   "cell_type": "code",
   "execution_count": 61,
   "metadata": {},
   "outputs": [],
   "source": [
    "import pandas as pd\n",
    "\n",
    "# persons with 3 or more HIV dx codes after 2018-01-01\n",
    "cohort = pd.read_csv(\"HIV_cohort.csv\")\n",
    "\n",
    "# target conditions like HCV/obesity/depression/anxiety/etc.\n",
    "conditions = pd.get_dummies(pd.read_csv(\"condition_query.csv\"), \n",
    "                           prefix=None).groupby('person_id').sum().reset_index()\n",
    "\n",
    "# number of E&M visits for established patients (CPT 99211-99215)\n",
    "visits = pd.read_csv(\"outpatient_visits.csv\")\n",
    "\n",
    "# merge aforementioned dataframes\n",
    "dx_visit_df = cohort.merge(visits, \n",
    "             how = 'left', on = 'person_id').fillna(0).merge(\n",
    "            conditions,\n",
    "            how = 'left', on = 'person_id').fillna(0)"
   ]
  },
  {
   "cell_type": "markdown",
   "metadata": {},
   "source": [
    "### Normalize VL Laboratory Tests"
   ]
  },
  {
   "cell_type": "code",
   "execution_count": 94,
   "metadata": {},
   "outputs": [],
   "source": [
    "# all viral load labs starting 2018-01-01\n",
    "vl_labs = pd.read_csv(\"viral_loads.csv\")\n",
    "\n",
    "# convert strings to float using a 'reference data frame'\n",
    "vl_summary = vl_labs.groupby('value_source_value').size().reset_index().sort_values([0], ascending = False)\n",
    "vl_summary.columns = ['value_source_value', 'value']\n",
    "\n",
    "# normalize VL labs\n",
    "i, floats, dmap = 0, [], {'Not Detected':0, '<20':0, '>10000000':10000, 'BT':0, 'TNP':0}\n",
    "for result in vl_summary['value_source_value'].tolist():\n",
    "    try:\n",
    "        floats.append(float(result))\n",
    "    except:\n",
    "        floats.append(float(dmap[result]))\n",
    "\n",
    "# vls column to create binary variable for 'viral load suppression'\n",
    "vl_summary['vls'] = [x < 200 for x in floats]\n",
    "\n",
    "VLS_df = vl_labs.merge(vl_summary, \n",
    "                       on = 'value_source_value')[['person_id', 'measurement_date', 'vls']]\n",
    "\n",
    "# get most recent lab for each patient\n",
    "VLS_df = VLS_df.merge(\n",
    "    VLS_df.groupby('person_id').measurement_date.first().reset_index(),\n",
    "    on = ['person_id', 'measurement_date'])"
   ]
  },
  {
   "cell_type": "markdown",
   "metadata": {},
   "source": [
    "### Create Final Dataframe"
   ]
  },
  {
   "cell_type": "code",
   "execution_count": 97,
   "metadata": {},
   "outputs": [],
   "source": [
    "df = dx_visit_df.merge(VLS_df[['person_id', 'vls']], on = 'person_id')\n",
    "df.to_csv(\"omop_hiv_jan11.csv\")"
   ]
  },
  {
   "cell_type": "code",
   "execution_count": null,
   "metadata": {},
   "outputs": [],
   "source": []
  }
 ],
 "metadata": {
  "kernelspec": {
   "display_name": "Python 3",
   "language": "python",
   "name": "python3"
  },
  "language_info": {
   "codemirror_mode": {
    "name": "ipython",
    "version": 3
   },
   "file_extension": ".py",
   "mimetype": "text/x-python",
   "name": "python",
   "nbconvert_exporter": "python",
   "pygments_lexer": "ipython3",
   "version": "3.7.5"
  }
 },
 "nbformat": 4,
 "nbformat_minor": 2
}
