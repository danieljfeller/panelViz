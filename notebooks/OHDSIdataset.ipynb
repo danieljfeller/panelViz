{
 "cells": [
  {
   "cell_type": "markdown",
   "metadata": {},
   "source": [
    "## Import OHDSI data"
   ]
  },
  {
   "cell_type": "code",
   "execution_count": 2,
   "metadata": {},
   "outputs": [],
   "source": [
    "import pandas as pd\n",
    "\n",
    "conditions = pd.read_csv(\"raw/ohdsi_cumc/conditions.csv\")\n",
    "person = pd.read_csv(\"raw/ohdsi_cumc/person.csv\")\n",
    "visit_procedure = pd.read_csv(\"raw/ohdsi_cumc/visit-procedure.csv\")\n",
    "measurement = pd.read_csv(\"raw/ohdsi_cumc/measurement.csv\")"
   ]
  },
  {
   "cell_type": "markdown",
   "metadata": {},
   "source": [
    "### Concept Sets"
   ]
  },
  {
   "cell_type": "code",
   "execution_count": 6,
   "metadata": {},
   "outputs": [],
   "source": [
    "## outpatient visit\n",
    "outpatient = [9202,45888946,45888701,2414397,2414398,2414396,4155973]\n",
    "\n",
    "## inpatient visit\n",
    "inpatient = [8715,4295146,40757236,4313303,4214577,9201]\n",
    "\n",
    "## diabetes HbA1c\n",
    "hba1c = 2106236,4184637,4199033,2212392,2212166,2212168,2212165,2212167,2212643,45889243\n",
    "\n",
    "## chronic hepatitis C\n",
    "hcv = [197494,198964,4015842,45888894,2212924,36676304,192242,4340380]\n",
    "\n",
    "## substance abuse disorder\n",
    "drugs = [436954,4175635,439312,4145220,43530681,4103426,436097,440694,439313,\n",
    "         434627,434917,1568113,45586196,1568114,45566786,45542797,45576501,45566787,\n",
    "         45586198,1568115,45595856]\n",
    "\n",
    "## alcoholism\n",
    "etoh = [4218106,436953,433735,439005,437257,435532,432609,45476796,44824125,44826511,\n",
    " 44836977,45480099,4099801,44835799,4340743,45420196,40385504,36310781,45476797,\n",
    " 45470123,4100511]\n",
    "\n",
    "## cd4 count\n",
    "cd4 = [4209260,2212814,37392790,40304142,45441823,40325952,44807691,40325970,37392803,45422021]\n",
    "\n",
    "## HIV viral load\n",
    "vl_test = [40313288,40335025,3010747,3039421,3031527,3031839,3026532,3004365,\n",
    "           3000685,3014347,3010074]\n",
    "\n",
    "## homelessness\n",
    "homeless = [8715,4295146,40757236,4313303,4214577,9201,4139934,\n",
    "            45469665,44810601,4271762,40329696,21498856,45421731,\n",
    "            40299198,45528685]"
   ]
  },
  {
   "cell_type": "code",
   "execution_count": null,
   "metadata": {},
   "outputs": [],
   "source": []
  }
 ],
 "metadata": {
  "kernelspec": {
   "display_name": "Python 3",
   "language": "python",
   "name": "python3"
  },
  "language_info": {
   "codemirror_mode": {
    "name": "ipython",
    "version": 3
   },
   "file_extension": ".py",
   "mimetype": "text/x-python",
   "name": "python",
   "nbconvert_exporter": "python",
   "pygments_lexer": "ipython3",
   "version": "3.7.4"
  }
 },
 "nbformat": 4,
 "nbformat_minor": 2
}
