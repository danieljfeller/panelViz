{
 "cells": [
  {
   "cell_type": "code",
   "execution_count": null,
   "metadata": {},
   "outputs": [],
   "source": [
    "import pandas as pd\n",
    "\n",
    "\n",
    "# load datasets against which to assess accuracy\n",
    "PanelViz_dataset = pd.read_csv(\"../data/panelViz_dataset.csv\")\n",
    "Registry_dataset = pd.read_csv(\"../data/baseline_dataset.csv\")\n",
    "\n",
    "# load participant's selections during trial\n",
    "criteria_selections = pd.read_excel(open('tmp.xlsx', 'rb'),\n",
    "              sheet_name='Criteria Selections') \n",
    "patient_selections = pd.read_excel(open('tmp.xlsx', 'rb'),\n",
    "              sheet_name='Patient Selections')  \n",
    "usability = pd.read_excel(open('tmp.xlsx', 'rb'),\n",
    "              sheet_name='Health-ITUES')"
   ]
  },
  {
   "cell_type": "markdown",
   "metadata": {},
   "source": [
    "### Evaluate Accuracy - Combination of Criteria"
   ]
  },
  {
   "cell_type": "code",
   "execution_count": 2,
   "metadata": {},
   "outputs": [],
   "source": [
    "# dictionary storing the 'positive' value for each indicator\n",
    "gap_status = {'VLS':False, 'DrugAbuse': True}\n",
    "\n",
    "selection_accuracies = []\n",
    "def eval_combinations(criteria_combos, patients):\n",
    "\n",
    "    # loop through each of the 3 criteria combinations\n",
    "    for combo in criteria_combos:\n",
    "        \n",
    "        # loop through requirements\n",
    "        for criteria in combo:\n",
    "            \n",
    "            # loop through all patients selected in trial\n",
    "            for patient in patients:\n",
    "                selection_accuracies.append(df[df.Name == patient,]['criteria'] == gap_status[criteria])\n",
    "    \n",
    "    # print accuracy of patient selections\n",
    "    percent_correct = sum(selection_accuracies)/len(selection_accuracies)\n",
    "    print(\"%d patients selected - %f percent correct\" % [len(selection_accuracies), percent_correct])\n",
    "    "
   ]
  },
  {
   "cell_type": "code",
   "execution_count": null,
   "metadata": {},
   "outputs": [],
   "source": []
  }
 ],
 "metadata": {
  "kernelspec": {
   "display_name": "Python 3",
   "language": "python",
   "name": "python3"
  },
  "language_info": {
   "codemirror_mode": {
    "name": "ipython",
    "version": 3
   },
   "file_extension": ".py",
   "mimetype": "text/x-python",
   "name": "python",
   "nbconvert_exporter": "python",
   "pygments_lexer": "ipython3",
   "version": "3.7.5"
  }
 },
 "nbformat": 4,
 "nbformat_minor": 2
}
